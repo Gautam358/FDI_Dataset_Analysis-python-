{
 "cells": [
  {
   "cell_type": "code",
   "execution_count": 1,
   "id": "0272ab2a",
   "metadata": {},
   "outputs": [],
   "source": [
    "import numpy as np\n",
    "import pandas as pd\n",
    "import os\n",
    "import matplotlib.pyplot as plt"
   ]
  },
  {
   "cell_type": "markdown",
   "id": "c2c871db",
   "metadata": {},
   "source": [
    "found the directory with the help of OS module"
   ]
  },
  {
   "cell_type": "code",
   "execution_count": 2,
   "id": "855214e0",
   "metadata": {},
   "outputs": [
    {
     "data": {
      "text/plain": [
       "'C:\\\\Users\\\\hp'"
      ]
     },
     "execution_count": 2,
     "metadata": {},
     "output_type": "execute_result"
    }
   ],
   "source": [
    "os.getcwd()"
   ]
  },
  {
   "cell_type": "markdown",
   "id": "68a42ed7",
   "metadata": {},
   "source": [
    "changed the directory to import the file"
   ]
  },
  {
   "cell_type": "code",
   "execution_count": 3,
   "id": "c22a6d79",
   "metadata": {},
   "outputs": [],
   "source": [
    "os.chdir('E:\\\\')"
   ]
  },
  {
   "cell_type": "code",
   "execution_count": 4,
   "id": "5753b148",
   "metadata": {},
   "outputs": [
    {
     "data": {
      "text/plain": [
       "'E:\\\\'"
      ]
     },
     "execution_count": 4,
     "metadata": {},
     "output_type": "execute_result"
    }
   ],
   "source": [
    "os.getcwd()"
   ]
  },
  {
   "cell_type": "markdown",
   "id": "793c1567",
   "metadata": {},
   "source": [
    "Imported the csv file in jupyter notebook"
   ]
  },
  {
   "cell_type": "code",
   "execution_count": 6,
   "id": "1609abe3",
   "metadata": {},
   "outputs": [],
   "source": [
    "df = pd.read_csv('E:\\Project_files\\FDI_Data.csv', delimiter = ',', header = 0)"
   ]
  },
  {
   "cell_type": "code",
   "execution_count": 7,
   "id": "da0c836b",
   "metadata": {
    "scrolled": false
   },
   "outputs": [
    {
     "data": {
      "text/html": [
       "<div>\n",
       "<style scoped>\n",
       "    .dataframe tbody tr th:only-of-type {\n",
       "        vertical-align: middle;\n",
       "    }\n",
       "\n",
       "    .dataframe tbody tr th {\n",
       "        vertical-align: top;\n",
       "    }\n",
       "\n",
       "    .dataframe thead th {\n",
       "        text-align: right;\n",
       "    }\n",
       "</style>\n",
       "<table border=\"1\" class=\"dataframe\">\n",
       "  <thead>\n",
       "    <tr style=\"text-align: right;\">\n",
       "      <th></th>\n",
       "      <th>Sector</th>\n",
       "      <th>2000-01</th>\n",
       "      <th>2001-02</th>\n",
       "      <th>2002-03</th>\n",
       "      <th>2003-04</th>\n",
       "      <th>2004-05</th>\n",
       "      <th>2005-06</th>\n",
       "      <th>2006-07</th>\n",
       "      <th>2007-08</th>\n",
       "      <th>2008-09</th>\n",
       "      <th>2009-10</th>\n",
       "      <th>2010-11</th>\n",
       "      <th>2011-12</th>\n",
       "      <th>2012-13</th>\n",
       "      <th>2013-14</th>\n",
       "      <th>2014-15</th>\n",
       "      <th>2015-16</th>\n",
       "      <th>2016-17</th>\n",
       "    </tr>\n",
       "  </thead>\n",
       "  <tbody>\n",
       "    <tr>\n",
       "      <th>0</th>\n",
       "      <td>METALLURGICAL INDUSTRIES</td>\n",
       "      <td>22.69</td>\n",
       "      <td>14.14</td>\n",
       "      <td>36.61</td>\n",
       "      <td>8.11</td>\n",
       "      <td>200.38</td>\n",
       "      <td>149.13</td>\n",
       "      <td>169.94</td>\n",
       "      <td>1175.75</td>\n",
       "      <td>959.94</td>\n",
       "      <td>419.88</td>\n",
       "      <td>1098.14</td>\n",
       "      <td>1786.14</td>\n",
       "      <td>1466.23</td>\n",
       "      <td>567.63</td>\n",
       "      <td>359.34</td>\n",
       "      <td>456.31</td>\n",
       "      <td>1440.18</td>\n",
       "    </tr>\n",
       "    <tr>\n",
       "      <th>1</th>\n",
       "      <td>MINING</td>\n",
       "      <td>1.32</td>\n",
       "      <td>6.52</td>\n",
       "      <td>10.06</td>\n",
       "      <td>23.48</td>\n",
       "      <td>9.92</td>\n",
       "      <td>7.40</td>\n",
       "      <td>6.62</td>\n",
       "      <td>444.36</td>\n",
       "      <td>34.16</td>\n",
       "      <td>174.40</td>\n",
       "      <td>79.51</td>\n",
       "      <td>142.65</td>\n",
       "      <td>57.89</td>\n",
       "      <td>12.73</td>\n",
       "      <td>684.39</td>\n",
       "      <td>520.67</td>\n",
       "      <td>55.75</td>\n",
       "    </tr>\n",
       "    <tr>\n",
       "      <th>2</th>\n",
       "      <td>POWER</td>\n",
       "      <td>89.42</td>\n",
       "      <td>757.44</td>\n",
       "      <td>59.11</td>\n",
       "      <td>27.09</td>\n",
       "      <td>43.37</td>\n",
       "      <td>72.69</td>\n",
       "      <td>157.15</td>\n",
       "      <td>988.68</td>\n",
       "      <td>907.66</td>\n",
       "      <td>1271.79</td>\n",
       "      <td>1271.77</td>\n",
       "      <td>1652.38</td>\n",
       "      <td>535.68</td>\n",
       "      <td>1066.08</td>\n",
       "      <td>707.04</td>\n",
       "      <td>868.80</td>\n",
       "      <td>1112.98</td>\n",
       "    </tr>\n",
       "    <tr>\n",
       "      <th>3</th>\n",
       "      <td>NON-CONVENTIONAL ENERGY</td>\n",
       "      <td>0.00</td>\n",
       "      <td>0.00</td>\n",
       "      <td>1.70</td>\n",
       "      <td>4.14</td>\n",
       "      <td>1.27</td>\n",
       "      <td>1.35</td>\n",
       "      <td>2.44</td>\n",
       "      <td>58.82</td>\n",
       "      <td>125.88</td>\n",
       "      <td>622.52</td>\n",
       "      <td>214.40</td>\n",
       "      <td>452.17</td>\n",
       "      <td>1106.52</td>\n",
       "      <td>414.25</td>\n",
       "      <td>615.95</td>\n",
       "      <td>776.51</td>\n",
       "      <td>783.57</td>\n",
       "    </tr>\n",
       "    <tr>\n",
       "      <th>4</th>\n",
       "      <td>COAL PRODUCTION</td>\n",
       "      <td>0.00</td>\n",
       "      <td>0.00</td>\n",
       "      <td>0.00</td>\n",
       "      <td>0.04</td>\n",
       "      <td>0.00</td>\n",
       "      <td>9.14</td>\n",
       "      <td>1.30</td>\n",
       "      <td>14.08</td>\n",
       "      <td>0.22</td>\n",
       "      <td>0.00</td>\n",
       "      <td>0.00</td>\n",
       "      <td>0.00</td>\n",
       "      <td>0.00</td>\n",
       "      <td>2.96</td>\n",
       "      <td>0.00</td>\n",
       "      <td>0.00</td>\n",
       "      <td>0.00</td>\n",
       "    </tr>\n",
       "  </tbody>\n",
       "</table>\n",
       "</div>"
      ],
      "text/plain": [
       "                     Sector  2000-01  2001-02  2002-03  2003-04  2004-05  \\\n",
       "0  METALLURGICAL INDUSTRIES    22.69    14.14    36.61     8.11   200.38   \n",
       "1                    MINING     1.32     6.52    10.06    23.48     9.92   \n",
       "2                     POWER    89.42   757.44    59.11    27.09    43.37   \n",
       "3   NON-CONVENTIONAL ENERGY     0.00     0.00     1.70     4.14     1.27   \n",
       "4           COAL PRODUCTION     0.00     0.00     0.00     0.04     0.00   \n",
       "\n",
       "   2005-06  2006-07  2007-08  2008-09  2009-10  2010-11  2011-12  2012-13  \\\n",
       "0   149.13   169.94  1175.75   959.94   419.88  1098.14  1786.14  1466.23   \n",
       "1     7.40     6.62   444.36    34.16   174.40    79.51   142.65    57.89   \n",
       "2    72.69   157.15   988.68   907.66  1271.79  1271.77  1652.38   535.68   \n",
       "3     1.35     2.44    58.82   125.88   622.52   214.40   452.17  1106.52   \n",
       "4     9.14     1.30    14.08     0.22     0.00     0.00     0.00     0.00   \n",
       "\n",
       "   2013-14  2014-15  2015-16  2016-17  \n",
       "0   567.63   359.34   456.31  1440.18  \n",
       "1    12.73   684.39   520.67    55.75  \n",
       "2  1066.08   707.04   868.80  1112.98  \n",
       "3   414.25   615.95   776.51   783.57  \n",
       "4     2.96     0.00     0.00     0.00  "
      ]
     },
     "execution_count": 7,
     "metadata": {},
     "output_type": "execute_result"
    }
   ],
   "source": [
    "df.head()"
   ]
  },
  {
   "cell_type": "markdown",
   "id": "d81b3210",
   "metadata": {},
   "source": [
    "# Sector-Wise FDI from 2000-01 to 2016-17"
   ]
  },
  {
   "cell_type": "code",
   "execution_count": 8,
   "id": "404cfcf4",
   "metadata": {},
   "outputs": [],
   "source": [
    "df.set_index('Sector', inplace = True)"
   ]
  },
  {
   "cell_type": "code",
   "execution_count": 9,
   "id": "ab3b9e8a",
   "metadata": {},
   "outputs": [],
   "source": [
    "sector_wise_fdi = df.sum(axis = 1)"
   ]
  },
  {
   "cell_type": "code",
   "execution_count": 10,
   "id": "ddbaf789",
   "metadata": {},
   "outputs": [
    {
     "data": {
      "text/plain": [
       "Sector\n",
       "METALLURGICAL INDUSTRIES    10330.54\n",
       "MINING                       2271.83\n",
       "POWER                       11589.13\n",
       "NON-CONVENTIONAL ENERGY      5181.49\n",
       "COAL PRODUCTION                27.74\n",
       "dtype: float64"
      ]
     },
     "execution_count": 10,
     "metadata": {},
     "output_type": "execute_result"
    }
   ],
   "source": [
    "sector_wise_fdi.head(5)"
   ]
  },
  {
   "cell_type": "code",
   "execution_count": 11,
   "id": "9c131c61",
   "metadata": {},
   "outputs": [],
   "source": [
    "sector_fdi_df = pd.DataFrame({'Sector': sector_wise_fdi.index, 'FDI': sector_wise_fdi.values})"
   ]
  },
  {
   "cell_type": "code",
   "execution_count": 12,
   "id": "6f41800e",
   "metadata": {},
   "outputs": [],
   "source": [
    "csv_file_path = 'E:\\\\Project_files\\\\sector_wise_fdi.csv'\n",
    "sector_fdi_df.to_csv(csv_file_path, index=False)"
   ]
  },
  {
   "cell_type": "markdown",
   "id": "fcb461e7",
   "metadata": {},
   "source": [
    "# Top Sectors and Bottom Sectors"
   ]
  },
  {
   "cell_type": "code",
   "execution_count": 13,
   "id": "c38af22f",
   "metadata": {},
   "outputs": [],
   "source": [
    "top_sectors = sector_wise_fdi.sort_values(ascending = False)"
   ]
  },
  {
   "cell_type": "code",
   "execution_count": 14,
   "id": "34df376e",
   "metadata": {},
   "outputs": [
    {
     "data": {
      "text/plain": [
       "Sector\n",
       "SERVICES SECTOR (Fin.,Banking,Insurance,Non Fin/Business,Outsourcing,R&D,Courier,Tech. Testing and Analysis, Other)    59476.49\n",
       "COMPUTER SOFTWARE & HARDWARE                                                                                           24669.49\n",
       "CONSTRUCTION DEVELOPMENT: Townships, housing, built-up infrastructure and construction-development projects            24293.09\n",
       "TELECOMMUNICATIONS                                                                                                     23946.01\n",
       "AUTOMOBILE INDUSTRY                                                                                                    16673.92\n",
       "dtype: float64"
      ]
     },
     "execution_count": 14,
     "metadata": {},
     "output_type": "execute_result"
    }
   ],
   "source": [
    "top_sectors.head(5)"
   ]
  },
  {
   "cell_type": "code",
   "execution_count": 15,
   "id": "fe3f763e",
   "metadata": {},
   "outputs": [],
   "source": [
    "bottom_sectors = sector_wise_fdi.sort_values(ascending = True)"
   ]
  },
  {
   "cell_type": "code",
   "execution_count": 16,
   "id": "b3751044",
   "metadata": {},
   "outputs": [
    {
     "data": {
      "text/plain": [
       "Sector\n",
       "COIR                                               4.06\n",
       "DEFENCE INDUSTRIES                                 5.12\n",
       "MATHEMATICAL,SURVEYING AND DRAWING INSTRUMENTS     7.98\n",
       "COAL PRODUCTION                                   27.74\n",
       "PHOTOGRAPHIC RAW FILM AND PAPER                   67.28\n",
       "dtype: float64"
      ]
     },
     "execution_count": 16,
     "metadata": {},
     "output_type": "execute_result"
    }
   ],
   "source": [
    "bottom_sectors.head(5)"
   ]
  },
  {
   "cell_type": "markdown",
   "id": "f941f253",
   "metadata": {},
   "source": [
    "# Year-Wise FDI from 2000-01 to 2016-17"
   ]
  },
  {
   "cell_type": "code",
   "execution_count": 17,
   "id": "3e5a48e6",
   "metadata": {},
   "outputs": [],
   "source": [
    "df_yearly = df.transpose()"
   ]
  },
  {
   "cell_type": "code",
   "execution_count": 18,
   "id": "4ba09ba6",
   "metadata": {},
   "outputs": [
    {
     "data": {
      "text/plain": [
       "2000-01     2378.71\n",
       "2001-02     4027.69\n",
       "2002-03     2704.32\n",
       "2003-04     2187.85\n",
       "2004-05     3218.69\n",
       "2005-06     5539.75\n",
       "2006-07    12491.76\n",
       "2007-08    24575.40\n",
       "2008-09    31395.96\n",
       "2009-10    25834.38\n",
       "dtype: float64"
      ]
     },
     "execution_count": 18,
     "metadata": {},
     "output_type": "execute_result"
    }
   ],
   "source": [
    "year_wise_fdi = df_yearly.sum(axis = 1)\n",
    "year_wise_fdi.head(10)"
   ]
  },
  {
   "cell_type": "code",
   "execution_count": 19,
   "id": "ae544811",
   "metadata": {},
   "outputs": [],
   "source": [
    "yearly_fdi = pd.DataFrame({'Year' : year_wise_fdi.index, 'FDI' : year_wise_fdi.values})"
   ]
  },
  {
   "cell_type": "code",
   "execution_count": 20,
   "id": "7ae10681",
   "metadata": {},
   "outputs": [],
   "source": [
    "yearly_fdi.to_csv('E:\\\\Project_files\\\\yearly_wise_fdi.csv', index = False)"
   ]
  },
  {
   "cell_type": "markdown",
   "id": "343eef43",
   "metadata": {},
   "source": [
    "# Top and Bottom years"
   ]
  },
  {
   "cell_type": "code",
   "execution_count": 21,
   "id": "7edb61f3",
   "metadata": {},
   "outputs": [
    {
     "data": {
      "text/plain": [
       "2016-17    43478.26\n",
       "2015-16    40000.99\n",
       "2011-12    35120.78\n",
       "2008-09    31395.96\n",
       "2014-15    30930.47\n",
       "dtype: float64"
      ]
     },
     "execution_count": 21,
     "metadata": {},
     "output_type": "execute_result"
    }
   ],
   "source": [
    "top_years = year_wise_fdi.sort_values(ascending = False)\n",
    "top_years.head(5)"
   ]
  },
  {
   "cell_type": "code",
   "execution_count": 22,
   "id": "d003c599",
   "metadata": {},
   "outputs": [
    {
     "data": {
      "text/plain": [
       "2003-04    2187.85\n",
       "2000-01    2378.71\n",
       "2002-03    2704.32\n",
       "2004-05    3218.69\n",
       "2001-02    4027.69\n",
       "dtype: float64"
      ]
     },
     "execution_count": 22,
     "metadata": {},
     "output_type": "execute_result"
    }
   ],
   "source": [
    "bottom_years = year_wise_fdi.sort_values(ascending = True)\n",
    "bottom_years.head(5)"
   ]
  },
  {
   "cell_type": "code",
   "execution_count": 23,
   "id": "928fc418",
   "metadata": {
    "scrolled": true
   },
   "outputs": [
    {
     "data": {
      "text/html": [
       "<div>\n",
       "<style scoped>\n",
       "    .dataframe tbody tr th:only-of-type {\n",
       "        vertical-align: middle;\n",
       "    }\n",
       "\n",
       "    .dataframe tbody tr th {\n",
       "        vertical-align: top;\n",
       "    }\n",
       "\n",
       "    .dataframe thead th {\n",
       "        text-align: right;\n",
       "    }\n",
       "</style>\n",
       "<table border=\"1\" class=\"dataframe\">\n",
       "  <thead>\n",
       "    <tr style=\"text-align: right;\">\n",
       "      <th></th>\n",
       "      <th>2000-01</th>\n",
       "      <th>2001-02</th>\n",
       "      <th>2002-03</th>\n",
       "      <th>2003-04</th>\n",
       "      <th>2004-05</th>\n",
       "      <th>2005-06</th>\n",
       "      <th>2006-07</th>\n",
       "      <th>2007-08</th>\n",
       "      <th>2008-09</th>\n",
       "      <th>2009-10</th>\n",
       "      <th>2010-11</th>\n",
       "      <th>2011-12</th>\n",
       "      <th>2012-13</th>\n",
       "      <th>2013-14</th>\n",
       "      <th>2014-15</th>\n",
       "      <th>2015-16</th>\n",
       "      <th>2016-17</th>\n",
       "    </tr>\n",
       "    <tr>\n",
       "      <th>Sector</th>\n",
       "      <th></th>\n",
       "      <th></th>\n",
       "      <th></th>\n",
       "      <th></th>\n",
       "      <th></th>\n",
       "      <th></th>\n",
       "      <th></th>\n",
       "      <th></th>\n",
       "      <th></th>\n",
       "      <th></th>\n",
       "      <th></th>\n",
       "      <th></th>\n",
       "      <th></th>\n",
       "      <th></th>\n",
       "      <th></th>\n",
       "      <th></th>\n",
       "      <th></th>\n",
       "    </tr>\n",
       "  </thead>\n",
       "  <tbody>\n",
       "    <tr>\n",
       "      <th>METALLURGICAL INDUSTRIES</th>\n",
       "      <td>22.69</td>\n",
       "      <td>14.14</td>\n",
       "      <td>36.61</td>\n",
       "      <td>8.11</td>\n",
       "      <td>200.38</td>\n",
       "      <td>149.13</td>\n",
       "      <td>169.94</td>\n",
       "      <td>1175.75</td>\n",
       "      <td>959.94</td>\n",
       "      <td>419.88</td>\n",
       "      <td>1098.14</td>\n",
       "      <td>1786.14</td>\n",
       "      <td>1466.23</td>\n",
       "      <td>567.63</td>\n",
       "      <td>359.34</td>\n",
       "      <td>456.31</td>\n",
       "      <td>1440.18</td>\n",
       "    </tr>\n",
       "    <tr>\n",
       "      <th>MINING</th>\n",
       "      <td>1.32</td>\n",
       "      <td>6.52</td>\n",
       "      <td>10.06</td>\n",
       "      <td>23.48</td>\n",
       "      <td>9.92</td>\n",
       "      <td>7.40</td>\n",
       "      <td>6.62</td>\n",
       "      <td>444.36</td>\n",
       "      <td>34.16</td>\n",
       "      <td>174.40</td>\n",
       "      <td>79.51</td>\n",
       "      <td>142.65</td>\n",
       "      <td>57.89</td>\n",
       "      <td>12.73</td>\n",
       "      <td>684.39</td>\n",
       "      <td>520.67</td>\n",
       "      <td>55.75</td>\n",
       "    </tr>\n",
       "    <tr>\n",
       "      <th>POWER</th>\n",
       "      <td>89.42</td>\n",
       "      <td>757.44</td>\n",
       "      <td>59.11</td>\n",
       "      <td>27.09</td>\n",
       "      <td>43.37</td>\n",
       "      <td>72.69</td>\n",
       "      <td>157.15</td>\n",
       "      <td>988.68</td>\n",
       "      <td>907.66</td>\n",
       "      <td>1271.79</td>\n",
       "      <td>1271.77</td>\n",
       "      <td>1652.38</td>\n",
       "      <td>535.68</td>\n",
       "      <td>1066.08</td>\n",
       "      <td>707.04</td>\n",
       "      <td>868.80</td>\n",
       "      <td>1112.98</td>\n",
       "    </tr>\n",
       "    <tr>\n",
       "      <th>NON-CONVENTIONAL ENERGY</th>\n",
       "      <td>0.00</td>\n",
       "      <td>0.00</td>\n",
       "      <td>1.70</td>\n",
       "      <td>4.14</td>\n",
       "      <td>1.27</td>\n",
       "      <td>1.35</td>\n",
       "      <td>2.44</td>\n",
       "      <td>58.82</td>\n",
       "      <td>125.88</td>\n",
       "      <td>622.52</td>\n",
       "      <td>214.40</td>\n",
       "      <td>452.17</td>\n",
       "      <td>1106.52</td>\n",
       "      <td>414.25</td>\n",
       "      <td>615.95</td>\n",
       "      <td>776.51</td>\n",
       "      <td>783.57</td>\n",
       "    </tr>\n",
       "    <tr>\n",
       "      <th>COAL PRODUCTION</th>\n",
       "      <td>0.00</td>\n",
       "      <td>0.00</td>\n",
       "      <td>0.00</td>\n",
       "      <td>0.04</td>\n",
       "      <td>0.00</td>\n",
       "      <td>9.14</td>\n",
       "      <td>1.30</td>\n",
       "      <td>14.08</td>\n",
       "      <td>0.22</td>\n",
       "      <td>0.00</td>\n",
       "      <td>0.00</td>\n",
       "      <td>0.00</td>\n",
       "      <td>0.00</td>\n",
       "      <td>2.96</td>\n",
       "      <td>0.00</td>\n",
       "      <td>0.00</td>\n",
       "      <td>0.00</td>\n",
       "    </tr>\n",
       "  </tbody>\n",
       "</table>\n",
       "</div>"
      ],
      "text/plain": [
       "                          2000-01  2001-02  2002-03  2003-04  2004-05  \\\n",
       "Sector                                                                  \n",
       "METALLURGICAL INDUSTRIES    22.69    14.14    36.61     8.11   200.38   \n",
       "MINING                       1.32     6.52    10.06    23.48     9.92   \n",
       "POWER                       89.42   757.44    59.11    27.09    43.37   \n",
       "NON-CONVENTIONAL ENERGY      0.00     0.00     1.70     4.14     1.27   \n",
       "COAL PRODUCTION              0.00     0.00     0.00     0.04     0.00   \n",
       "\n",
       "                          2005-06  2006-07  2007-08  2008-09  2009-10  \\\n",
       "Sector                                                                  \n",
       "METALLURGICAL INDUSTRIES   149.13   169.94  1175.75   959.94   419.88   \n",
       "MINING                       7.40     6.62   444.36    34.16   174.40   \n",
       "POWER                       72.69   157.15   988.68   907.66  1271.79   \n",
       "NON-CONVENTIONAL ENERGY      1.35     2.44    58.82   125.88   622.52   \n",
       "COAL PRODUCTION              9.14     1.30    14.08     0.22     0.00   \n",
       "\n",
       "                          2010-11  2011-12  2012-13  2013-14  2014-15  \\\n",
       "Sector                                                                  \n",
       "METALLURGICAL INDUSTRIES  1098.14  1786.14  1466.23   567.63   359.34   \n",
       "MINING                      79.51   142.65    57.89    12.73   684.39   \n",
       "POWER                     1271.77  1652.38   535.68  1066.08   707.04   \n",
       "NON-CONVENTIONAL ENERGY    214.40   452.17  1106.52   414.25   615.95   \n",
       "COAL PRODUCTION              0.00     0.00     0.00     2.96     0.00   \n",
       "\n",
       "                          2015-16  2016-17  \n",
       "Sector                                      \n",
       "METALLURGICAL INDUSTRIES   456.31  1440.18  \n",
       "MINING                     520.67    55.75  \n",
       "POWER                      868.80  1112.98  \n",
       "NON-CONVENTIONAL ENERGY    776.51   783.57  \n",
       "COAL PRODUCTION              0.00     0.00  "
      ]
     },
     "execution_count": 23,
     "metadata": {},
     "output_type": "execute_result"
    }
   ],
   "source": [
    "df.head(5)"
   ]
  },
  {
   "cell_type": "markdown",
   "id": "44d5658b",
   "metadata": {},
   "source": [
    "# Which sector receives max fdi in which year "
   ]
  },
  {
   "cell_type": "code",
   "execution_count": 43,
   "id": "9aa3b999",
   "metadata": {},
   "outputs": [
    {
     "data": {
      "text/plain": [
       "Sector\n",
       "METALLURGICAL INDUSTRIES    1786.14\n",
       "MINING                       684.39\n",
       "POWER                       1652.38\n",
       "NON-CONVENTIONAL ENERGY     1106.52\n",
       "COAL PRODUCTION               14.08\n",
       "dtype: float64"
      ]
     },
     "execution_count": 43,
     "metadata": {},
     "output_type": "execute_result"
    }
   ],
   "source": [
    "sector_year_wise = df.max(axis = 1)\n",
    "sector_year_wise.head(5)"
   ]
  },
  {
   "cell_type": "code",
   "execution_count": 47,
   "id": "66752869",
   "metadata": {},
   "outputs": [
    {
     "data": {
      "text/plain": [
       "Sector\n",
       "METALLURGICAL INDUSTRIES                                                                                       2011-12\n",
       "MINING                                                                                                         2014-15\n",
       "POWER                                                                                                          2011-12\n",
       "NON-CONVENTIONAL ENERGY                                                                                        2012-13\n",
       "COAL PRODUCTION                                                                                                2007-08\n",
       "                                                                                                                ...   \n",
       "PRINTING OF BOOKS (INCLUDING LITHO PRINTING INDUSTRY)                                                          2015-16\n",
       "COIR                                                                                                           2014-15\n",
       "CONSTRUCTION (INFRASTRUCTURE) ACTIVITIES                                                                       2015-16\n",
       "CONSTRUCTION DEVELOPMENT: Townships, housing, built-up infrastructure and construction-development projects    2009-10\n",
       "MISCELLANEOUS INDUSTRIES                                                                                       2008-09\n",
       "Length: 63, dtype: object"
      ]
     },
     "execution_count": 47,
     "metadata": {},
     "output_type": "execute_result"
    }
   ],
   "source": [
    "max_year_by_sector = df.idxmax(axis=1)\n",
    "max_year_by_sector"
   ]
  },
  {
   "cell_type": "code",
   "execution_count": 48,
   "id": "f1267fd6",
   "metadata": {},
   "outputs": [],
   "source": [
    "year_by_sector = pd.DataFrame({'Sector' : max_year_by_sector.index, 'Year' : max_year_by_sector.values})\n",
    "year_by_sector.to_csv('E:\\\\Project_files\\\\max_year_by_sector.csv', index = False)"
   ]
  },
  {
   "cell_type": "code",
   "execution_count": null,
   "id": "ca452211",
   "metadata": {},
   "outputs": [],
   "source": []
  }
 ],
 "metadata": {
  "kernelspec": {
   "display_name": "Python 3 (ipykernel)",
   "language": "python",
   "name": "python3"
  },
  "language_info": {
   "codemirror_mode": {
    "name": "ipython",
    "version": 3
   },
   "file_extension": ".py",
   "mimetype": "text/x-python",
   "name": "python",
   "nbconvert_exporter": "python",
   "pygments_lexer": "ipython3",
   "version": "3.11.4"
  }
 },
 "nbformat": 4,
 "nbformat_minor": 5
}
